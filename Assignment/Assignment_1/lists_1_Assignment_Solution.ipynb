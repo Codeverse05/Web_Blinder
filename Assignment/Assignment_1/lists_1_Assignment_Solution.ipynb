{
  "nbformat": 4,
  "nbformat_minor": 0,
  "metadata": {
    "colab": {
      "provenance": []
    },
    "kernelspec": {
      "name": "python3",
      "display_name": "Python 3"
    },
    "language_info": {
      "name": "python"
    }
  },
  "cells": [
    {
      "cell_type": "markdown",
      "source": [
        "1.Are lists mutable or immutable, explain with an example"
      ],
      "metadata": {
        "id": "Mxypr15V3U7e"
      }
    },
    {
      "cell_type": "code",
      "source": [
        "#Lists in Python are mutable, which means you can change their contents (add, remove, or modify elements) after the list is created\n",
        "\n",
        "# Creating a list\n",
        "my_list = [1, 2, 3, 4, 5]\n",
        "# Modifying an element in the list\n",
        "my_list[2] = 10\n",
        "# Adding an element to the list\n",
        "my_list.append(6)\n",
        "# Removing an element from the list\n",
        "my_list.remove(4)\n",
        "\n",
        "print(\"Modified list :\", my_list)"
      ],
      "metadata": {
        "id": "c_aTKXsT3p0P",
        "colab": {
          "base_uri": "https://localhost:8080/"
        },
        "outputId": "1c6b3d63-dbcd-49de-dbe1-f419acaad18e"
      },
      "execution_count": 14,
      "outputs": [
        {
          "output_type": "stream",
          "name": "stdout",
          "text": [
            "Modified list : [1, 2, 10, 5, 6]\n"
          ]
        }
      ]
    },
    {
      "cell_type": "markdown",
      "source": [
        "2.Take any example of list on your own and perform atleast 5 list operations on that"
      ],
      "metadata": {
        "id": "uPYH4kpZ3U97"
      }
    },
    {
      "cell_type": "code",
      "source": [
        "#write your code here\n",
        "# Initial list\n",
        "numbers = [10, 20, 30, 40, 50]\n",
        "\n",
        "# 1. Append an element to the list\n",
        "numbers.append(60)\n",
        "print(\"After append :\", numbers)\n",
        "\n",
        "# 2. Insert an element at a specific position\n",
        "numbers.insert(2, 25)\n",
        "print(\"After insert :\", numbers)\n",
        "\n",
        "# 3. Remove an element from the list\n",
        "numbers.remove(40)\n",
        "print(\"After remove :\", numbers)\n",
        "\n",
        "# 4. Access an element by index\n",
        "element = numbers[3]\n",
        "print(\"Element at index 3 :\", element)\n",
        "\n",
        "# 5. Sort the list in ascending order\n",
        "numbers.sort()\n",
        "print(\"After sort :\", numbers)\n",
        "\n",
        "# 6. Reverse the list\n",
        "numbers.reverse()\n",
        "print(\"After reverse :\", numbers)\n",
        "\n",
        "# 7. Pop an element (removes and returns the last item)\n",
        "popped_element = numbers.pop()\n",
        "print(\"After pop :\", numbers)\n",
        "print(\"Popped element :\", popped_element)\n",
        "\n",
        "# 8. Extend the list by adding elements from another list\n",
        "numbers.extend([70, 80, 90])\n",
        "print(\"After extend :\", numbers)\n",
        "\n",
        "# 9. Clear all elements from the list\n",
        "numbers.clear()\n",
        "print(\"After clear :\", numbers)"
      ],
      "metadata": {
        "id": "vSxe0pwG36ME",
        "colab": {
          "base_uri": "https://localhost:8080/"
        },
        "outputId": "82593daf-7131-4a7d-9ff4-2b7c0b48b5e0"
      },
      "execution_count": 13,
      "outputs": [
        {
          "output_type": "stream",
          "name": "stdout",
          "text": [
            "After append : [10, 20, 30, 40, 50, 60]\n",
            "After insert : [10, 20, 25, 30, 40, 50, 60]\n",
            "After remove : [10, 20, 25, 30, 50, 60]\n",
            "Element at index 3 : 30\n",
            "After sort : [10, 20, 25, 30, 50, 60]\n",
            "After reverse : [60, 50, 30, 25, 20, 10]\n",
            "After pop : [60, 50, 30, 25, 20]\n",
            "Popped element : 10\n",
            "After extend : [60, 50, 30, 25, 20, 70, 80, 90]\n",
            "After clear : []\n"
          ]
        }
      ]
    },
    {
      "cell_type": "markdown",
      "source": [
        "3.Create a new list containing only the even numbers from the original list.\n",
        "\n",
        "original list ;[1,2,2,4,5,6,7,12,3,456,78,67,89,90]"
      ],
      "metadata": {
        "id": "1aSo9eEU3VAT"
      }
    },
    {
      "cell_type": "code",
      "source": [
        "#write your code here\n",
        "original_list = [1, 2, 2, 4, 5, 6, 7, 12, 3, 456, 78, 67, 89, 90]\n",
        "en = [num for num in original_list if num % 2 == 0]\n",
        "print(\"Even numbers from the original list :\", en)"
      ],
      "metadata": {
        "id": "e-_3vMX54Upe",
        "colab": {
          "base_uri": "https://localhost:8080/"
        },
        "outputId": "1b93ee4f-9ef9-4cb0-bce9-477a2d6c111e"
      },
      "execution_count": 9,
      "outputs": [
        {
          "output_type": "stream",
          "name": "stdout",
          "text": [
            "Even numbers from the original list : [2, 2, 4, 6, 12, 456, 78, 90]\n"
          ]
        }
      ]
    },
    {
      "cell_type": "markdown",
      "source": [
        "4.Create a new list with the squares of each element in the original list.\n",
        "\n",
        "original list : [3,5,6,8,2,45]"
      ],
      "metadata": {
        "id": "y1b95q7k3VCz"
      }
    },
    {
      "cell_type": "code",
      "source": [
        "#write your code here\n",
        "ol = [3, 5, 6, 8, 2, 45]\n",
        "# Creating a new list with the squares of each element in the original list\n",
        "sn = [num ** 2 for num in original_list]\n",
        "print(\"Squares of elements from the original list :\", sn)"
      ],
      "metadata": {
        "id": "97M5xax24jM4",
        "colab": {
          "base_uri": "https://localhost:8080/"
        },
        "outputId": "90b27c2d-c9e1-44e4-92b1-4099d45805e6"
      },
      "execution_count": 11,
      "outputs": [
        {
          "output_type": "stream",
          "name": "stdout",
          "text": [
            "Squares of elements from the original list : [9, 25, 36, 64, 4, 2025]\n"
          ]
        }
      ]
    },
    {
      "cell_type": "markdown",
      "source": [
        "5.Check if all elements in the list are positive and return all the positive elements in a new list.\n",
        "\n",
        "input ; [12,23,4,56,77,-89,7,90,90,-87,-99]"
      ],
      "metadata": {
        "id": "pzrQ5WBZ3VFQ"
      }
    },
    {
      "cell_type": "code",
      "source": [
        "# write your code here\n",
        "il = [12, 23, 4, 56, 77, -89, 7, 90, 90, -87, -99]\n",
        "positive_numbers = [num for num in il if num > 0]\n",
        "all_positive = all(num > 0 for num in il)\n",
        "print(\"Positive numbers in the list :\", positive_numbers)\n",
        "print(\"Are all elements positive? : \", all_positive)"
      ],
      "metadata": {
        "id": "8x0148io5FcT",
        "colab": {
          "base_uri": "https://localhost:8080/"
        },
        "outputId": "e9970e34-1860-42a0-8cfe-fcfe1ed2e020"
      },
      "execution_count": 12,
      "outputs": [
        {
          "output_type": "stream",
          "name": "stdout",
          "text": [
            "Positive numbers in the list : [12, 23, 4, 56, 77, 7, 90, 90]\n",
            "Are all elements positive? :  False\n"
          ]
        }
      ]
    },
    {
      "cell_type": "code",
      "source": [],
      "metadata": {
        "id": "nGcrsK0dhUKi"
      },
      "execution_count": null,
      "outputs": []
    }
  ]
}