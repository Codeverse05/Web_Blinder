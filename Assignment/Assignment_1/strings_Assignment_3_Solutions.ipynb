{
  "nbformat": 4,
  "nbformat_minor": 0,
  "metadata": {
    "colab": {
      "provenance": []
    },
    "kernelspec": {
      "name": "python3",
      "display_name": "Python 3"
    },
    "language_info": {
      "name": "python"
    }
  },
  "cells": [
    {
      "cell_type": "markdown",
      "source": [
        "1.Write a Python program to count the number of vowels in a string.\n",
        "\n",
        "input : hasdfgeuionhjl"
      ],
      "metadata": {
        "id": "q8RkYTES1QUW"
      }
    },
    {
      "cell_type": "code",
      "source": [
        "# write your code here\n",
        "input_string = input(\"Enter a string : \")\n",
        "vowels = \"aeiouAEIOU\"\n",
        "count = sum(1 for char in input_string if char in vowels)\n",
        "print(\"Number of vowels : \", count)"
      ],
      "metadata": {
        "id": "UHi6ezjV1X0s",
        "colab": {
          "base_uri": "https://localhost:8080/"
        },
        "outputId": "d7a2a997-c1f0-4059-a4dc-2c9f88b1d2e5"
      },
      "execution_count": 3,
      "outputs": [
        {
          "output_type": "stream",
          "name": "stdout",
          "text": [
            "Enter a string : hasdfgeuionhjl\n",
            "Number of vowels :  5\n"
          ]
        }
      ]
    },
    {
      "cell_type": "markdown",
      "source": [
        "2.Write a Python program to count the occurrences of each word in a sentence.\n",
        "\n",
        "input : hi hello hi and and hi more and more programming"
      ],
      "metadata": {
        "id": "v7GBEK161QWy"
      }
    },
    {
      "cell_type": "code",
      "source": [
        "# write your code here\n",
        "input_sentence = input(\"Enter a sentence : \")\n",
        "words = input_sentence.split()\n",
        "word_count = {}\n",
        "for word in words:\n",
        "    word_count[word] = word_count.get(word, 0) + 1\n",
        "print(\"Word occurrences : \", word_count)"
      ],
      "metadata": {
        "id": "R-UzDybK1uZo",
        "colab": {
          "base_uri": "https://localhost:8080/"
        },
        "outputId": "0d0539db-a4f3-48b0-9114-1e6a790bcdca"
      },
      "execution_count": 4,
      "outputs": [
        {
          "output_type": "stream",
          "name": "stdout",
          "text": [
            "Enter a sentence : hi hello hi and and hi more and more programming\n",
            "Word occurrences :  {'hi': 3, 'hello': 1, 'and': 3, 'more': 2, 'programming': 1}\n"
          ]
        }
      ]
    },
    {
      "cell_type": "markdown",
      "source": [
        "3.In python how can you differentiate strings and lists. Give atleast 5 different comparisons between them."
      ],
      "metadata": {
        "id": "evCcw-0H1QY9"
      }
    },
    {
      "cell_type": "markdown",
      "source": [
        "Answer:\n",
        "# 1. Mutability :\n",
        "s = \"hello\"\n",
        "Suppose we code, s[0] = \"H\"  \n",
        "#This will raise an error since strings are immutable\n",
        "\n",
        "lst = [1, 2, 3]\n",
        "lst[0] = 0  \n",
        "#This is valid because lists are mutable\n",
        "print(\"Modified list:\", lst)\n",
        "\n",
        "# 2. Data Type :\n",
        "s = \"hello\"        \n",
        "# String\n",
        "lst = [1, \"a\", [2, 3]]  \n",
        "# List containing different data types\n",
        "print(\"List with different types:\", lst)\n",
        "\n",
        "# 3. Indexing and Slicing :\n",
        "s = \"hello\"\n",
        "print(s[0])   \n",
        "# 'h'\n",
        "print(s[1:4])\n",
        "# 'ell'\n",
        "\n",
        "lst = [1, \"a\", 3.5, [4, 5]]\n",
        "print(lst[1])    \n",
        "# 'a'\n",
        "print(lst[1:3])  \n",
        "# ['a', 3.5]\n",
        "\n",
        "# 4. Methods :\n",
        "s = \"hello\"\n",
        "print(s.upper())  \n",
        "# 'HELLO'\n",
        "\n",
        "lst = [1, 2, 3]\n",
        "lst.append(4)    \n",
        " # Adds 4 to the list\n",
        "print(\"Modified list:\", lst)\n",
        "\n",
        "# 5. Iteration :\n",
        "s = \"hello\"\n",
        "for char in s:\n",
        "    print(char)\n",
        "# Prints 'h', 'e', 'l', 'l', 'o'\n",
        "\n",
        "lst = [1, \"a\", 3.5]\n",
        "for item in lst:\n",
        "    print(item)  \n",
        "# Prints 1, \"a\", 3.5\n"
      ],
      "metadata": {
        "id": "YQxAjoKSs0P4"
      }
    },
    {
      "cell_type": "markdown",
      "source": [
        "4.Write a string for your own of approximately 40 in length and perform any 5 different string operations on that."
      ],
      "metadata": {
        "id": "riR1PWxG1Qdq"
      }
    },
    {
      "cell_type": "code",
      "source": [
        "#Write your code here\n",
        "my_string = \"Python programming is fun and exciting with Web Blinders!\"\n",
        "\n",
        "# 1. Convert the string to uppercase\n",
        "upper_case_string = my_string.upper()\n",
        "print(\"Uppercase:\", upper_case_string)\n",
        "\n",
        "# 2. Convert the string to lowercase\n",
        "lower_case_string = my_string.lower()\n",
        "print(\"Lowercase:\", lower_case_string)\n",
        "\n",
        "# 3. Count the occurrences of a specific character ('o')\n",
        "count_o = my_string.count('o')\n",
        "print(\"Count of 'o':\", count_o)\n",
        "\n",
        "# 4. Replace a word in the string\n",
        "replaced_string = my_string.replace(\"fun\", \"awesome\")\n",
        "print(\"Replaced 'fun' with 'awesome':\", replaced_string)\n",
        "\n",
        "# 5. Extract a substring from the string (index 7 to 18)\n",
        "substring = my_string[7:19]\n",
        "print(\"Substring (from index 7 to 18):\", substring)"
      ],
      "metadata": {
        "id": "3bHyrDS12e8i",
        "colab": {
          "base_uri": "https://localhost:8080/"
        },
        "outputId": "a7626b63-5a50-40c5-b400-d1a97c347999"
      },
      "execution_count": 5,
      "outputs": [
        {
          "output_type": "stream",
          "name": "stdout",
          "text": [
            "Uppercase: PYTHON PROGRAMMING IS FUN AND EXCITING WITH WEB BLINDERS!\n",
            "Lowercase: python programming is fun and exciting with web blinders!\n",
            "Count of 'o': 2\n",
            "Replaced 'fun' with 'awesome': Python programming is awesome and exciting with Web Blinders!\n",
            "Substring (from index 7 to 18): programming \n"
          ]
        }
      ]
    },
    {
      "cell_type": "markdown",
      "source": [
        "5.Explain the concatination in strings with a neat example."
      ],
      "metadata": {
        "id": "bbUm7VVN1Qfu"
      }
    },
    {
      "cell_type": "code",
      "source": [
        "#write your code and explanation here\n",
        "string1 = \"Hello\"\n",
        "string2 = \"World\"\n",
        "# Concatenating the strings using the + operator\n",
        "result1 = string1 + \" \" + string2\n",
        "print(\"Using + operator : \", result1)\n",
        "\n",
        "words = [\"Hello\", \"World\", \"from\", \"Python\"]\n",
        "# Concatenating the strings using join()\n",
        "result2 = \" \".join(words)\n",
        "print(\"Using join() method : \", result2)"
      ],
      "metadata": {
        "id": "y9292Q452tF0",
        "colab": {
          "base_uri": "https://localhost:8080/"
        },
        "outputId": "41298924-a0d3-42b3-f33e-9249f05e1889"
      },
      "execution_count": 6,
      "outputs": [
        {
          "output_type": "stream",
          "name": "stdout",
          "text": [
            "Using + operator :  Hello World\n",
            "Using join() method :  Hello World from Python\n"
          ]
        }
      ]
    }
  ]
}