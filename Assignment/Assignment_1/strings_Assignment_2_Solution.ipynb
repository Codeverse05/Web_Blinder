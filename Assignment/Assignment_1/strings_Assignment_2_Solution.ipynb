{
  "nbformat": 4,
  "nbformat_minor": 0,
  "metadata": {
    "colab": {
      "provenance": [],
      "toc_visible": true
    },
    "kernelspec": {
      "name": "python3",
      "display_name": "Python 3"
    },
    "language_info": {
      "name": "python"
    }
  },
  "cells": [
    {
      "cell_type": "markdown",
      "source": [
        "## Strings Assignment 2"
      ],
      "metadata": {
        "id": "EPGLodluvWuN"
      }
    },
    {
      "cell_type": "markdown",
      "source": [
        "1.Write a Python program to reverse a string.\n",
        "\n",
        "input : hellohowareyoudoingandhowisyourhealth"
      ],
      "metadata": {
        "id": "ddM5gMtivkoi"
      }
    },
    {
      "cell_type": "code",
      "source": [
        "# write your code here\n",
        "IS = input(\"Enter a string: \")#IS = Input_String\n",
        "reversed_string = IS[::-1]\n",
        "print(reversed_string)"
      ],
      "metadata": {
        "id": "RnP576ZZvtLH",
        "colab": {
          "base_uri": "https://localhost:8080/"
        },
        "outputId": "7a3ed82f-8db5-43a3-8aeb-c61f9289cf19"
      },
      "execution_count": 1,
      "outputs": [
        {
          "output_type": "stream",
          "name": "stdout",
          "text": [
            "Enter a string: hellohowareyoudoingandhowisyourhealth\n",
            "htlaehruoysiwohdnagnioduoyerawoholleh\n"
          ]
        }
      ]
    },
    {
      "cell_type": "markdown",
      "source": [
        "2.Write a Python program to capitalize the first letter of each word in a sentence.\n",
        "\n",
        "input : hello welcome to internship"
      ],
      "metadata": {
        "id": "jEVFoo3evnhr"
      }
    },
    {
      "cell_type": "code",
      "source": [
        "# write your code here\n",
        "IS = input(\"Enter a sentence: \")\n",
        "changed_sentence = IS.title()\n",
        "print(changed_sentence)"
      ],
      "metadata": {
        "id": "CTP3QwiGwT93",
        "colab": {
          "base_uri": "https://localhost:8080/"
        },
        "outputId": "894c1062-ad89-4f20-fe10-0b3dbf74b4c2"
      },
      "execution_count": 11,
      "outputs": [
        {
          "output_type": "stream",
          "name": "stdout",
          "text": [
            "Enter a sentence: hello welcome to internship\n",
            "Hello Welcome To Internship\n"
          ]
        }
      ]
    },
    {
      "cell_type": "markdown",
      "source": [
        "3.Write a Python program to find the longest word in a sentence.\n",
        "\n",
        "input : \"he is very good at painting and paint good sketches\""
      ],
      "metadata": {
        "id": "LiGvyCoVvnyC"
      }
    },
    {
      "cell_type": "code",
      "source": [
        "# write your code here\n",
        "IS = input(\"Enter a sentence: \")\n",
        "words = IS.split()\n",
        "longest_word = max(words, key=len)\n",
        "print(longest_word)"
      ],
      "metadata": {
        "id": "clATuC3cwwPI",
        "colab": {
          "base_uri": "https://localhost:8080/"
        },
        "outputId": "a34f4e76-6205-4b4f-ea70-e3fe39b1cf70"
      },
      "execution_count": 12,
      "outputs": [
        {
          "output_type": "stream",
          "name": "stdout",
          "text": [
            "Enter a sentence: he is very good at painting and paint good sketches\n",
            "painting\n"
          ]
        }
      ]
    },
    {
      "cell_type": "markdown",
      "source": [
        "4.Write a Python program to find the length of the last word in a sentence.\n",
        "\n",
        "input : this is the most beautiful beach I ever visited"
      ],
      "metadata": {
        "id": "-QhCplQjvn0w"
      }
    },
    {
      "cell_type": "code",
      "source": [
        "# write your code here\n",
        "IS = input(\"Enter a sentence: \")\n",
        "words = input_sentence.split()\n",
        "last_word = words[-1]\n",
        "length_of_last_word = len(last_word)\n",
        "print(f\"The last word of the sentence is {last_word} and the length of it is : \",length_of_last_word)"
      ],
      "metadata": {
        "id": "QwzbahlkxGZ-",
        "colab": {
          "base_uri": "https://localhost:8080/"
        },
        "outputId": "ffb5d522-bbde-4d61-8de0-9c4b2990dd1f"
      },
      "execution_count": 7,
      "outputs": [
        {
          "output_type": "stream",
          "name": "stdout",
          "text": [
            "Enter a sentence: this is the most beautiful beach I ever visited\n",
            "The last word of the sentence is visited and the length of it is :  7\n"
          ]
        }
      ]
    },
    {
      "cell_type": "markdown",
      "source": [
        "5.Write a Python program to find the second most frequent character in a string.\n",
        "\n",
        "input: the hospital is very big and this hospital has so many doctors"
      ],
      "metadata": {
        "id": "cZiXxZhsvn6q"
      }
    },
    {
      "cell_type": "code",
      "source": [
        "# write your code here\n",
        "from collections import Counter\n",
        "IS = input(\"Enter a string: \")\n",
        "IS = IS.replace(\" \", \"\")\n",
        "char_count = Counter(IS)\n",
        "most_common = char_count.most_common()\n",
        "if len(most_common) > 1:\n",
        "    second_most_frequent = most_common[1][0]\n",
        "    print(f\"Second most frequent character: {second_most_frequent}\")\n",
        "else:\n",
        "    print(\"There is no second most frequent character.\")"
      ],
      "metadata": {
        "id": "EnHquuoCxi7F",
        "colab": {
          "base_uri": "https://localhost:8080/"
        },
        "outputId": "3c289783-2fba-401b-f1f4-27e16ee4817c"
      },
      "execution_count": 13,
      "outputs": [
        {
          "output_type": "stream",
          "name": "stdout",
          "text": [
            "Enter a string: the hospital is very big and this hospital has so many doctors\n",
            "Second most frequent character: t\n"
          ]
        }
      ]
    }
  ]
}